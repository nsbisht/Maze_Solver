{
 "cells": [
  {
   "cell_type": "code",
   "execution_count": 1,
   "metadata": {},
   "outputs": [],
   "source": [
    "from matplotlib import *\n",
    "import matplotlib.pyplot as plt\n",
    "import numpy as np\n",
    "import ipywidgets as widgets\n",
    "from IPython.display import clear_output"
   ]
  },
  {
   "cell_type": "code",
   "execution_count": 2,
   "metadata": {},
   "outputs": [],
   "source": [
    "def grid_generator(row,col):     # function to create the matrix\n",
    "    grid =[]\n",
    "    open_pos=[]\n",
    "    for i in range(row):\n",
    "        temp=[]\n",
    "        for j in range(col):\n",
    "            temp.append(state(i,j))           # function calls state class\n",
    "            if numpy.random.randint(5)==3:\n",
    "                temp[-1].type=1\n",
    "                temp[-1].dis ='#'             # obstacle \n",
    "            else:\n",
    "                temp[-1].dis='.'              # open cell\n",
    "                open_pos.append([temp[-1].x,temp[-1].y])\n",
    "        grid.append(temp)\n",
    "    return grid,open_pos\n",
    "\n",
    "def grid_print(grid):                         # Not in use\n",
    "    \n",
    "    for i in range(len(grid)):\n",
    "        for j in range(len(grid[i])):\n",
    "            print(grid[i][j].dis,end=\"\")\n",
    "        print('\\n')"
   ]
  },
  {
   "cell_type": "code",
   "execution_count": 3,
   "metadata": {},
   "outputs": [],
   "source": [
    "class state():                     # Cell object creation\n",
    "    \n",
    "    def __init__(self,i,j):                               \n",
    "        self.x =i                     # cell row\n",
    "        self.y =j                     # cell col\n",
    "        self.type =0                  # cell type 0 /1 to identify obstacle\n",
    "        self.dis =None                # help the printer function to identify the cell type\n",
    "        self.parent = 7               # stores parent of the cell\n",
    "        self.heuristic =0             # eucledian heuristic\n",
    "\n",
    "\n",
    "        \n",
    "class BFS():                                  # BFS algorithm class\n",
    "    \n",
    "    def __init__(self,start):                    # BFS queue creator\n",
    "        self.queue=[]\n",
    "    \n",
    "    \n",
    "    def isempty(self):                           # check if queue is empty\n",
    "        if len(self.queue)==0:\n",
    "            return True\n",
    "        else:\n",
    "            return False\n",
    "    \n",
    "    def remove(self):                            # removes the state from the queue\n",
    "        if self.isempty():\n",
    "            print('Queue Error')\n",
    "        else:\n",
    "            return self.queue.pop(0)\n",
    "        \n",
    "    def add(self,state):                         # adds new state to the queue at end\n",
    "        self.queue.append(state)\n",
    "        \n",
    "    \n",
    "class DFS():                                     # DFS algorithm\n",
    "    \n",
    "    def __init__(self,start):                    # hybrid stack - implementd with list\n",
    "        self.stack=[]\n",
    "    \n",
    "    def isempty(self):\n",
    "        if len(self.stack)==0:\n",
    "            print('Stack is empty')\n",
    "            return True\n",
    "        else:\n",
    "            return False\n",
    "    \n",
    "    def remove(self):\n",
    "        if self.isempty():                     # removes from top\n",
    "            print('Queue Error')\n",
    "        else:\n",
    "            return self.stack.pop(0)\n",
    "        \n",
    "    def add(self,state):                       #adds at top\n",
    "        self.stack.insert(0,state)\n",
    "        \n",
    "\n",
    "class heuristic():                             # heuristic algorithm\n",
    "    \n",
    "    def __init__(self,end):\n",
    "        self.queue=[]\n",
    "        self.end =end\n",
    "    \n",
    "    def isempty(self):\n",
    "        if len(self.queue)==0:\n",
    "            return True\n",
    "        else:\n",
    "            return False\n",
    "    \n",
    "    def remove(self):\n",
    "        if self.isempty():\n",
    "            print('Queue Error')\n",
    "        else:\n",
    "            return self.queue.pop(0)\n",
    "        \n",
    "    def add(self,state):                      # eucledian distance heuristic\n",
    "        self.queue.append(state)\n",
    "        state.heuristic = ((state.x -self.end.x)**2 + (state.y-self.end.y)**2)**0.5\n",
    "        self.sorter()\n",
    "        \n",
    "    def sorter(self):                       # to sort the queue with the heuristic\n",
    "        while swap!=0:\n",
    "            swap=0\n",
    "            for i in range(len(self.queue)):\n",
    "                if self.queue[i+1].heuristic<self.queue[i].heuristic:\n",
    "                    temp =  self.queue[i+1]\n",
    "                    self.queue[i+1] =self.queue[i]\n",
    "                    self.queue[i] = temp\n",
    "                    swap+=1\n",
    "                \n",
    "                          \n",
    "class search():                             # search algorithm to call DFS / BFS/ Heurisitc                           \n",
    "    \n",
    "    def __init__(self,start,goal,grid,stype):\n",
    "        self.start =start\n",
    "        self.goal =goal\n",
    "        self.grid=grid\n",
    "        self.stype =stype\n",
    "        \n",
    "    \n",
    "    def findneighbour(self,state):         # find the eight close neightbours of state\n",
    "        neigh =[]\n",
    "        neigh=[[state.x,state.y-1],[state.x,state.y+1]]\n",
    "        neigh.append([state.x+1,state.y])\n",
    "        neigh.append([state.x-1,state.y])\n",
    "        neigh.append([state.x+1,state.y+1])\n",
    "        neigh.append([state.x-1,state.y-1])\n",
    "        neigh.append([state.x-1,state.y+1])\n",
    "        neigh.append([state.x+1,state.y-1])\n",
    "        return neigh\n",
    "        \n",
    "        \n",
    "    \n",
    "    def run(self):                       # initiates the search\n",
    "        \n",
    "        if self.stype =='BFS':\n",
    "            fs=BFS(self.grid[self.start[0]][self.start[1]])\n",
    "        elif self.stype=='DFS':\n",
    "            fs=DFS(self.grid[self.start[0]][self.start[1]])\n",
    "        elif self.stype =='He':\n",
    "            fs=DFS(self.grid[self.goal[0]][self.goal[1]])\n",
    "        \n",
    "        self.process(fs)\n",
    "    def process(self,fs):               # starts the process\n",
    "        explored =[]\n",
    "        exploration =0\n",
    "        fs.add(self.grid[self.start[0]][self.start[1]])\n",
    "        \n",
    "        current =fs.remove()\n",
    "        counter=0\n",
    "        while current != self.grid[self.goal[0]][self.goal[1]] and counter!=(N*N)*8:\n",
    "            neigh = self.findneighbour(current)\n",
    "            for i in neigh:\n",
    "                if i[0]>=0 and i[0]<=len(self.grid)-1 and i[1]>=0 and i[1]<=len(self.grid)-1 and  i not in explored:\n",
    "                    if self.grid[i[0]][i[1]].type==0:\n",
    "                        fs.add(self.grid[i[0]][i[1]])\n",
    "                        self.grid[i[0]][i[1]].parent=current\n",
    "                        explored.append(i)\n",
    "            current = fs.remove()\n",
    "            counter+=1\n",
    "            exploration+=1\n",
    "        if current==self.grid[self.goal[0]][self.goal[1]]:\n",
    "            print('Goal found')\n",
    "            current.dis='G'\n",
    "            while current!=self.grid[self.start[0]][self.start[1]]:\n",
    "                    \n",
    "                print(current.x,current.y)\n",
    "                current = current.parent\n",
    "                current.dis='+'\n",
    "            current.dis='S'   \n",
    "            gridprint(g1,len(g1))\n",
    "            print('RED - Obstacle ','Blue -path ','Start -Black ','Goal- Green')\n",
    "            print('Exploration',exploration,' for ',self.stype,' algorithm')\n",
    "        else:\n",
    "            print('goal not found , unable to move around')"
   ]
  },
  {
   "cell_type": "code",
   "execution_count": 4,
   "metadata": {},
   "outputs": [],
   "source": [
    "def gridprint(g,N):            #  printer function takes in the grid and the size of grid           \n",
    "\n",
    "    data=[]\n",
    "    for i in range(len(g)):\n",
    "        temp=[]\n",
    "        for j in range(len(g[i])):\n",
    "            if g[i][j].dis=='#':\n",
    "                temp.append(4)\n",
    "            elif g[i][j].dis=='+':\n",
    "                temp.append(9)\n",
    "            elif g[i][j].dis=='S':\n",
    "                temp.append(19)\n",
    "            elif g[i][j].dis=='G':\n",
    "                temp.append(24)\n",
    "            else:\n",
    "                temp.append(14)\n",
    "        data.append(temp)\n",
    "\n",
    "    # create discrete colorm\n",
    "    cmap = colors.ListedColormap(['r','b','w','black','g'])\n",
    "    bounds = [0,5,10,15,20,25]\n",
    "    norm = colors.BoundaryNorm(bounds, cmap.N)\n",
    "    cmap.set_bad(color='w',alpha=0)\n",
    "    cmap\n",
    "    fig, ax = plt.subplots()\n",
    "    ax.imshow(data, cmap=cmap, norm=norm)\n",
    "\n",
    "    # draw gridlines\n",
    "    ax.grid(which='major', axis='both', linestyle='-', color='k', linewidth=2)\n",
    "    ax.set_xticks(np.arange(0.5, N, 1));\n",
    "    ax.set_yticks(np.arange(0.5, N, 1));\n",
    "    \n",
    "    \n",
    "    plt.show()"
   ]
  },
  {
   "cell_type": "code",
   "execution_count": 8,
   "metadata": {},
   "outputs": [
    {
     "data": {
      "application/vnd.jupyter.widget-view+json": {
       "model_id": "",
       "version_major": 2,
       "version_minor": 0
      },
      "text/plain": [
       "Text(value='', description='N')"
      ]
     },
     "metadata": {},
     "output_type": "display_data"
    }
   ],
   "source": [
    "# grid_size = widgets.Text(description=\"N\")\n",
    "# display(grid_size)"
   ]
  },
  {
   "cell_type": "markdown",
   "metadata": {},
   "source": [
    "## Maze Solver via Motion Planning"
   ]
  },
  {
   "cell_type": "code",
   "execution_count": 10,
   "metadata": {},
   "outputs": [
    {
     "data": {
      "image/png": "[encoded data removed]",
      "text/plain": [
       "<Figure size 432x288 with 1 Axes>"
      ]
     },
     "metadata": {
      "needs_background": "light"
     },
     "output_type": "display_data"
    }
   ],
   "source": [
    "# N = int(grid_size.value)\n",
    "N = 10\n",
    "g,o=grid_generator(N,N)\n",
    "gridprint(g,N)"
   ]
  },
  {
   "cell_type": "code",
   "execution_count": 11,
   "metadata": {},
   "outputs": [
    {
     "name": "stdout",
     "output_type": "stream",
     "text": [
      "Do you want system to select the start and goal\n"
     ]
    },
    {
     "data": {
      "application/vnd.jupyter.widget-view+json": {
       "model_id": "b39c226b92494dd7828ef59f162e1cbb",
       "version_major": 2,
       "version_minor": 0
      },
      "text/plain": [
       "Dropdown(options=(('Yes', 'Y'), ('No', 'N')), value='Y')"
      ]
     },
     "metadata": {},
     "output_type": "display_data"
    },
    {
     "name": "stdout",
     "output_type": "stream",
     "text": [
      "Provide the start position\n"
     ]
    },
    {
     "data": {
      "application/vnd.jupyter.widget-view+json": {
       "model_id": "efc7296df9104ee9b07ce8abd1124952",
       "version_major": 2,
       "version_minor": 0
      },
      "text/plain": [
       "Dropdown(options=(([0, 2], 0), ([1, 0], 1), ([1, 3], 2), ([2, 0], 3), ([2, 1], 4), ([2, 2], 5), ([2, 3], 6), (…"
      ]
     },
     "metadata": {},
     "output_type": "display_data"
    },
    {
     "name": "stdout",
     "output_type": "stream",
     "text": [
      "Provide the goal position\n"
     ]
    },
    {
     "data": {
      "application/vnd.jupyter.widget-view+json": {
       "model_id": "f134229087a540b3bf609d38fedea677",
       "version_major": 2,
       "version_minor": 0
      },
      "text/plain": [
       "Dropdown(options=(([0, 2], 0), ([1, 0], 1), ([1, 3], 2), ([2, 0], 3), ([2, 1], 4), ([2, 2], 5), ([2, 3], 6), (…"
      ]
     },
     "metadata": {},
     "output_type": "display_data"
    }
   ],
   "source": [
    "print('Do you want system to select the start and goal')\n",
    "\n",
    "user2 = widgets.Dropdown(\n",
    "    options = [(\"Yes\", \"Y\"), (\"No\", \"N\")],\n",
    "    disabled = False,\n",
    ")\n",
    "display(user2)\n",
    "\n",
    "if user2.value=='Y':\n",
    "    start = o[numpy.random.randint(len(o))]\n",
    "    goal  = o[numpy.random.randint(len(o))]\n",
    "    while start == goal:\n",
    "        start = o[numpy.random.randint(len(o))]\n",
    "        goal  = o[numpy.random.randint(len(o))]\n",
    "else:\n",
    "    #print(o)\n",
    "    #start_choice = int(input('Provide the start position'))\n",
    "    print('Provide the start position')\n",
    "    start_options = []\n",
    "    for idx, option in enumerate(o):\n",
    "            start_options.append((option, idx))\n",
    "    start_choice = widgets.Dropdown(\n",
    "        options=start_options,\n",
    "        disabled = False,\n",
    "    )\n",
    "    display(start_choice)\n",
    "    start = o[start_choice.value]\n",
    "    \n",
    "    print('Provide the goal position')\n",
    "    goal_options = []\n",
    "    for idx, option in enumerate(o):\n",
    "            goal_options.append((option, idx))\n",
    "    goal_choice = widgets.Dropdown(\n",
    "        options = goal_options,\n",
    "        disabled = False,\n",
    "    )\n",
    "    display(goal_choice)\n",
    "    #goal_choice = int(input('Provide the goal position'))\n",
    "    goal  = o[goal_choice.value]\n",
    "    \n",
    "print('Provide the start position')\n",
    "start_options = []\n",
    "for idx, option in enumerate(o):\n",
    "    start_options.append((option, idx))\n",
    "start_choice = widgets.Dropdown(\n",
    "    options=start_options,\n",
    "    disabled = False,\n",
    ")\n",
    "display(start_choice)\n",
    "    \n",
    "print('Provide the goal position')\n",
    "goal_options = []\n",
    "for idx, option in enumerate(o):\n",
    "    goal_options.append((option, idx))\n",
    "goal_choice = widgets.Dropdown(\n",
    "    options = goal_options,\n",
    "    disabled = False,\n",
    ")\n",
    "display(goal_choice)"
   ]
  },
  {
   "cell_type": "code",
   "execution_count": 20,
   "metadata": {},
   "outputs": [],
   "source": [
    "message = widgets.Output()\n",
    "\n",
    "button_set_start_and_goal_state = widgets.Button(description=\"Set Start and Goal State\")\n",
    "\n",
    "def on_button_set_start_and_goal_state(b):\n",
    "\n",
    "    if user2.value=='Y':\n",
    "        start = o[numpy.random.randint(len(o))]\n",
    "        goal  = o[numpy.random.randint(len(o))]\n",
    "        while start == goal:\n",
    "            start = o[numpy.random.randint(len(o))]\n",
    "            goal  = o[numpy.random.randint(len(o))]\n",
    "    else:\n",
    "        start = o[start_choice.value]\n",
    "        goal  = o[goal_choice.value]\n",
    "    \n",
    "    with message:\n",
    "        clear_output(True)\n",
    "        print(start)\n",
    "        print(goal)\n",
    "            \n",
    "button_set_start_and_goal_state.on_click(on_button_set_start_and_goal_state)"
   ]
  },
  {
   "cell_type": "code",
   "execution_count": 21,
   "metadata": {},
   "outputs": [
    {
     "data": {
      "application/vnd.jupyter.widget-view+json": {
       "model_id": "a486d58e84f84bef967f1f6d69f5967c",
       "version_major": 2,
       "version_minor": 0
      },
      "text/plain": [
       "Button(description='Set Start and Goal State', style=ButtonStyle())"
      ]
     },
     "metadata": {},
     "output_type": "display_data"
    },
    {
     "data": {
      "application/vnd.jupyter.widget-view+json": {
       "model_id": "5aa641d64edd46479fa0dad0bb5fa9a5",
       "version_major": 2,
       "version_minor": 0
      },
      "text/plain": [
       "Output()"
      ]
     },
     "metadata": {},
     "output_type": "display_data"
    }
   ],
   "source": [
    "display(button_set_start_and_goal_state)\n",
    "display(message)"
   ]
  },
  {
   "cell_type": "code",
   "execution_count": 14,
   "metadata": {},
   "outputs": [
    {
     "name": "stdout",
     "output_type": "stream",
     "text": [
      "Select Algorithm(BFS/DFS/He)\n"
     ]
    },
    {
     "data": {
      "application/vnd.jupyter.widget-view+json": {
       "model_id": "687c15a939884c7ab35f84e1eb52e0b6",
       "version_major": 2,
       "version_minor": 0
      },
      "text/plain": [
       "Dropdown(options=(('BFS', 'BFS'), ('DFS', 'DFS'), ('He', 'He')), value='BFS')"
      ]
     },
     "metadata": {},
     "output_type": "display_data"
    }
   ],
   "source": [
    "print('Select Algorithm(BFS/DFS/He)')\n",
    "user3 = widgets.Dropdown(\n",
    "    options = [('BFS', 'BFS'), ('DFS', 'DFS'), ('Heuristics Search', 'He')],\n",
    "    disabled = False,\n",
    ")\n",
    "display(user3)"
   ]
  },
  {
   "cell_type": "code",
   "execution_count": 17,
   "metadata": {},
   "outputs": [],
   "source": [
    "result = widgets.Output()\n",
    "\n",
    "button_search = widgets.Button(description=\"Search\")\n",
    "\n",
    "g1 = g.copy()\n",
    "\n",
    "def on_button_search(b):\n",
    "\n",
    "    sr = search(start,goal,g1,user3.value)\n",
    "    \n",
    "    with result:\n",
    "        clear_output(True)\n",
    "        sr.run()\n",
    "            \n",
    "button_search.on_click(on_button_search)"
   ]
  },
  {
   "cell_type": "code",
   "execution_count": 18,
   "metadata": {},
   "outputs": [
    {
     "data": {
      "application/vnd.jupyter.widget-view+json": {
       "model_id": "2e620daafcdc407b9a31ed56b71880ad",
       "version_major": 2,
       "version_minor": 0
      },
      "text/plain": [
       "Button(description='Search', style=ButtonStyle())"
      ]
     },
     "metadata": {},
     "output_type": "display_data"
    },
    {
     "data": {
      "application/vnd.jupyter.widget-view+json": {
       "model_id": "600b9106c00242a4bf88f4104d0472b8",
       "version_major": 2,
       "version_minor": 0
      },
      "text/plain": [
       "Output()"
      ]
     },
     "metadata": {},
     "output_type": "display_data"
    }
   ],
   "source": [
    "display(button_search)\n",
    "display(result)"
   ]
  },
  {
   "cell_type": "code",
   "execution_count": null,
   "metadata": {},
   "outputs": [],
   "source": []
  }
 ],
 "metadata": {
  "kernelspec": {
   "display_name": "Python 3",
   "language": "python",
   "name": "python3"
  },
  "language_info": {
   "codemirror_mode": {
    "name": "ipython",
    "version": 3
   },
   "file_extension": ".py",
   "mimetype": "text/x-python",
   "name": "python",
   "nbconvert_exporter": "python",
   "pygments_lexer": "ipython3",
   "version": "3.8.5"
  }
 },
 "nbformat": 4,
 "nbformat_minor": 4
}
